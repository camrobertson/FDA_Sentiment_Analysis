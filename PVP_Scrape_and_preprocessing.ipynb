{
  "nbformat": 4,
  "nbformat_minor": 0,
  "metadata": {
    "colab": {
      "name": "Copy of WORKS TEST PVP Scrape.ipynb",
      "provenance": [],
      "collapsed_sections": [],
      "toc_visible": true,
      "include_colab_link": true
    },
    "kernelspec": {
      "name": "python3",
      "display_name": "Python 3"
    }
  },
  "cells": [
    {
      "cell_type": "markdown",
      "metadata": {
        "id": "view-in-github",
        "colab_type": "text"
      },
      "source": [
        "<a href=\"https://colab.research.google.com/github/camrobertson/FDA_Sentiment_Analysis/blob/Branch-Corpus-Development/PVP_Scrape_and_preprocessing.ipynb\" target=\"_parent\"><img src=\"https://colab.research.google.com/assets/colab-badge.svg\" alt=\"Open In Colab\"/></a>"
      ]
    },
    {
      "cell_type": "code",
      "metadata": {
        "id": "QPb9WUAtIm9K",
        "colab_type": "code",
        "outputId": "c6f5e0d2-f1c5-4802-a544-2c68e05c0c17",
        "colab": {
          "base_uri": "https://localhost:8080/",
          "height": 238
        }
      },
      "source": [
        "pip install readability-lxml"
      ],
      "execution_count": 0,
      "outputs": [
        {
          "output_type": "stream",
          "text": [
            "Collecting readability-lxml\n",
            "  Downloading https://files.pythonhosted.org/packages/af/a7/8ea52b2d3de4a95c3ed8255077618435546386e35af8969744c0fa82d0d6/readability-lxml-0.7.1.tar.gz\n",
            "Requirement already satisfied: chardet in /usr/local/lib/python3.6/dist-packages (from readability-lxml) (3.0.4)\n",
            "Requirement already satisfied: lxml in /usr/local/lib/python3.6/dist-packages (from readability-lxml) (4.2.6)\n",
            "Collecting cssselect\n",
            "  Downloading https://files.pythonhosted.org/packages/3b/d4/3b5c17f00cce85b9a1e6f91096e1cc8e8ede2e1be8e96b87ce1ed09e92c5/cssselect-1.1.0-py2.py3-none-any.whl\n",
            "Building wheels for collected packages: readability-lxml\n",
            "  Building wheel for readability-lxml (setup.py) ... \u001b[?25l\u001b[?25hdone\n",
            "  Created wheel for readability-lxml: filename=readability_lxml-0.7.1-cp36-none-any.whl size=16480 sha256=88de99a620597d6fdaa642740ad1323f5dadb03b4d6e10e4b37434ce273c42f7\n",
            "  Stored in directory: /root/.cache/pip/wheels/94/48/e5/d944e616d8b0734c3b9cf30a21f4afcf855a1e2b85f82f34fb\n",
            "Successfully built readability-lxml\n",
            "Installing collected packages: cssselect, readability-lxml\n",
            "Successfully installed cssselect-1.1.0 readability-lxml-0.7.1\n"
          ],
          "name": "stdout"
        }
      ]
    },
    {
      "cell_type": "code",
      "metadata": {
        "id": "m0PCokW1dprR",
        "colab_type": "code",
        "outputId": "cb90c1d2-33b8-47a4-8631-1376bfecc73a",
        "colab": {
          "base_uri": "https://localhost:8080/",
          "height": 51
        }
      },
      "source": [
        "import requests\n",
        "from bs4 import BeautifulSoup\n",
        "import nltk\n",
        "nltk.download('stopwords')\n",
        "from nltk.corpus import stopwords\n",
        "import urllib.parse\n"
      ],
      "execution_count": 0,
      "outputs": [
        {
          "output_type": "stream",
          "text": [
            "[nltk_data] Downloading package stopwords to /root/nltk_data...\n",
            "[nltk_data]   Unzipping corpora/stopwords.zip.\n"
          ],
          "name": "stdout"
        }
      ]
    },
    {
      "cell_type": "code",
      "metadata": {
        "id": "Q3QBaGceXwNQ",
        "colab_type": "code",
        "colab": {}
      },
      "source": [
        "\n",
        "#search_terms = [\n",
        "#                \"real world evidence\", \n",
        "#                \"RWE\", \n",
        "#                \"PFDD\", \n",
        "#                \"Patient Focused Drug Development\", \n",
        "#                \"Bayesian\", \n",
        "#                \"Bayes\", \n",
        "#                \"Advanced Trial Design\", \n",
        "#                \"Master Protocol\",\n",
        "#                \"Adaptive Design\"\n",
        "#                \"Oncology\", \n",
        "#                \"Rare\",\n",
        "#                \"Orphan\",\n",
        "#                \"Breakthrough\",\n",
        "#                \"Digital\"\n",
        "#]\n",
        "\n",
        "search_terms = [\"RWE\"]\n",
        "\n",
        "headers = {\n",
        "    'user-agent': 'Mozilla/5.0 (Windows NT 10.0; Win64; x64) AppleWebKit/537.36 (KHTML, like Gecko) Chrome/76.0.3809.100 Safari/537.36'\n",
        "}\n",
        "\n",
        "login_data = {\n",
        "    'user[email]': 'andrew.robertson@sanofi.com',\n",
        "    'user[password]': 'NecroticSpn43Ac',\n",
        "    #'utf8': '✓',\n",
        "    'commit': 'Login'\n",
        "}"
      ],
      "execution_count": 0,
      "outputs": []
    },
    {
      "cell_type": "markdown",
      "metadata": {
        "id": "-wIPwJHhV78q",
        "colab_type": "text"
      },
      "source": [
        "Create Corpus for PVP\n",
        "1. Mount Google Drive\n",
        "2. Run search for all documents that have keywords (e.g., \"RWE\") - see https://www.youtube.com/watch?v=eRSJSKG4mDA \n",
        "3. Login to PVP\n",
        "3. Grab urls for all documents that have keyword; store in dictionary (key = keyword; value = list of urls)\n",
        "4.  Grab urls 1 by 1; grab date for each\n",
        "5. Store html files in google drive (folder = PVP, name = PVP + date of doc + hash+.html)"
      ]
    },
    {
      "cell_type": "code",
      "metadata": {
        "id": "BJPiVKHUVAEv",
        "colab_type": "code",
        "outputId": "fa802bff-d6ea-46b9-bbe1-4a9a7a285cdd",
        "colab": {
          "base_uri": "https://localhost:8080/",
          "height": 122
        }
      },
      "source": [
        "#Step 1 = mount google cloud drive -- need to reset local variables / runtime if you want to re-execute. \n",
        "\n",
        "from google.colab import drive\n",
        "import os\n",
        "drive.mount('/content/gdrive/')\n"
      ],
      "execution_count": 0,
      "outputs": [
        {
          "output_type": "stream",
          "text": [
            "Go to this URL in a browser: https://accounts.google.com/o/oauth2/auth?client_id=947318989803-6bn6qk8qdgf4n4g3pfee6491hc0brc4i.apps.googleusercontent.com&redirect_uri=urn%3aietf%3awg%3aoauth%3a2.0%3aoob&response_type=code&scope=email%20https%3a%2f%2fwww.googleapis.com%2fauth%2fdocs.test%20https%3a%2f%2fwww.googleapis.com%2fauth%2fdrive%20https%3a%2f%2fwww.googleapis.com%2fauth%2fdrive.photos.readonly%20https%3a%2f%2fwww.googleapis.com%2fauth%2fpeopleapi.readonly\n",
            "\n",
            "Enter your authorization code:\n",
            "··········\n",
            "Mounted at /content/gdrive/\n"
          ],
          "name": "stdout"
        }
      ]
    },
    {
      "cell_type": "code",
      "metadata": {
        "id": "LPUg2vZJsx3e",
        "colab_type": "code",
        "outputId": "4306ae5d-d4bb-419c-e540-d84a083d1507",
        "colab": {
          "base_uri": "https://localhost:8080/",
          "height": 34
        }
      },
      "source": [
        "target_dir = 'gdrive/My Drive/FDA_Corpus/test_run'\n",
        "\n",
        "os.chdir('///content/' + target_dir) #CHANGE BACK TO ///content/gdrive//My Drive/FDA_Corpus/PVP\n",
        "os.getcwd()"
      ],
      "execution_count": 0,
      "outputs": [
        {
          "output_type": "execute_result",
          "data": {
            "text/plain": [
              "'/content/gdrive/My Drive/FDA_Corpus/test_run'"
            ]
          },
          "metadata": {
            "tags": []
          },
          "execution_count": 9
        }
      ]
    },
    {
      "cell_type": "markdown",
      "metadata": {
        "id": "us9Anw9QUOyr",
        "colab_type": "text"
      },
      "source": [
        "# HTMLCorpusReader"
      ]
    },
    {
      "cell_type": "code",
      "metadata": {
        "id": "EkUSTbnxID5U",
        "colab_type": "code",
        "outputId": "15dfae3c-f748-4100-abf8-b88740251a74",
        "colab": {
          "base_uri": "https://localhost:8080/",
          "height": 153
        }
      },
      "source": [
        "#!/usr/bin/env python3\n",
        "\n",
        "import bs4\n",
        "import time\n",
        "import nltk\n",
        "import pickle\n",
        "import logging\n",
        "import codecs\n",
        "\n",
        "from nltk.corpus.reader.api import CorpusReader\n",
        "from nltk.corpus.reader.api import CategorizedCorpusReader\n",
        "\n",
        "from readability.readability import Unparseable\n",
        "from readability.readability import Document as Paper\n",
        "from nltk import pos_tag, sent_tokenize, wordpunct_tokenize\n",
        "nltk.download('averaged_perceptron_tagger')\n",
        "nltk.download('stopwords')\n",
        "nltk.download('punkt')\n",
        "\n",
        "log = logging.getLogger(\"readability.readability\")\n",
        "log.setLevel('WARNING')\n",
        "\n",
        "DOC_PATTERN = r'(?!\\.)[a-z_\\s]+/[a-f0-9]+\\.html'\n",
        "PKL_PATTERN = r'(?!\\.)[a-z_\\s]+/[a-f0-9]+\\.pickle'\n",
        "CAT_PATTERN = r'([a-z_\\s]+)/.*'\n",
        "\n",
        "TAGS = ['h1', 'h2', 'h3', 'h4', 'h5', 'h6', 'p', 'li']\n",
        "\n",
        "\n",
        "class HTMLCorpusReader(CategorizedCorpusReader, CorpusReader):\n",
        "    \"\"\"\n",
        "    A corpus reader for raw HTML documents to enable preprocessing.\n",
        "    \"\"\"\n",
        "\n",
        "    def __init__(self, root, fileids=DOC_PATTERN, encoding='utf8',\n",
        "                 tags=TAGS, **kwargs):\n",
        "        \"\"\"\n",
        "        Initialize the corpus reader.  Categorization arguments\n",
        "        (``cat_pattern``, ``cat_map``, and ``cat_file``) are passed to\n",
        "        the ``CategorizedCorpusReader`` constructor.  The remaining\n",
        "        arguments are passed to the ``CorpusReader`` constructor.\n",
        "        \"\"\"\n",
        "        # Add the default category pattern if not passed into the class.\n",
        "        if not any(key.startswith('cat_') for key in kwargs.keys()):\n",
        "            kwargs['cat_pattern'] = CAT_PATTERN\n",
        "\n",
        "        # Initialize the NLTK corpus reader objects\n",
        "        CategorizedCorpusReader.__init__(self, kwargs)\n",
        "        CorpusReader.__init__(self, root, fileids, encoding)\n",
        "\n",
        "        # Save the tags that we specifically want to extract.\n",
        "        self.tags = tags\n",
        "\n",
        "    def resolve(self, fileids, categories):\n",
        "        \"\"\"\n",
        "        Returns a list of fileids or categories depending on what is passed\n",
        "        to each internal corpus reader function. Implemented similarly to\n",
        "        the NLTK ``CategorizedPlaintextCorpusReader``.\n",
        "        \"\"\"\n",
        "        if fileids is not None and categories is not None:\n",
        "            raise ValueError(\"Specify fileids or categories, not both\")\n",
        "\n",
        "        if categories is not None:\n",
        "            return self.fileids(categories)\n",
        "        return fileids\n",
        "\n",
        "    def docs(self, fileids=None, categories=None):\n",
        "        \"\"\"\n",
        "        Returns the complete text of an HTML document, closing the document\n",
        "        after we are done reading it and yielding it in a memory safe fashion.\n",
        "        \"\"\"\n",
        "        # Resolve the fileids and the categories\n",
        "        fileids = self.resolve(fileids, categories)\n",
        "\n",
        "        # Create a generator, loading one document into memory at a time.\n",
        "        for path, encoding in self.abspaths(fileids, include_encoding=True):\n",
        "            with codecs.open(path, 'r', encoding=encoding) as f:\n",
        "                #print(os.listdir(), os.getcwd())\n",
        "                yield f.read()\n",
        "\n",
        "    def sizes(self, fileids=None, categories=None):\n",
        "        \"\"\"\n",
        "        Returns a list of tuples, the fileid and size on disk of the file.\n",
        "        This function is used to detect oddly large files in the corpus.\n",
        "        \"\"\"\n",
        "        # Resolve the fileids and the categories\n",
        "        fileids = self.resolve(fileids, categories)\n",
        "\n",
        "        # Create a generator, getting every path and computing filesize\n",
        "        for path in self.abspaths(fileids):\n",
        "            yield os.path.getsize(path)\n",
        "\n",
        "    def html(self, fileids=None, categories=None):\n",
        "        \"\"\"\n",
        "        Returns the HTML content of each document, cleaning it using\n",
        "        the readability-lxml library.\n",
        "        \"\"\"\n",
        "        for doc in self.docs(fileids, categories):\n",
        "            try:\n",
        "                yield Paper(doc).summary()\n",
        "            except Unparseable as e:\n",
        "                print(\"Could not parse HTML: {}\".format(e))\n",
        "                continue\n",
        "\n",
        "    def paras(self, fileids=None, categories=None):\n",
        "        \"\"\"\n",
        "        Uses BeautifulSoup to parse the paragraphs from the HTML.\n",
        "        \"\"\"\n",
        "        for html in self.html(fileids, categories):\n",
        "            soup = bs4.BeautifulSoup(html, 'lxml') \n",
        "            for element in soup.find_all(self.tags):\n",
        "                yield element.text\n",
        "            soup.decompose()\n",
        "\n",
        "    def sents(self, fileids=None, categories=None):\n",
        "        \"\"\"\n",
        "        Uses the built in sentence tokenizer to extract sentences from the\n",
        "        paragraphs. Note that this method uses BeautifulSoup to parse HTML.\n",
        "        \"\"\"\n",
        "        for paragraph in self.paras(fileids, categories):\n",
        "            for sentence in sent_tokenize(paragraph):\n",
        "                yield sentence\n",
        "\n",
        "    def words(self, fileids=None, categories=None):\n",
        "        \"\"\"\n",
        "        Uses the built in word tokenizer to extract tokens from sentences.\n",
        "        Note that this method uses BeautifulSoup to parse HTML content.\n",
        "        \"\"\"\n",
        "        for sentence in self.sents(fileids, categories):\n",
        "            for token in wordpunct_tokenize(sentence):\n",
        "                yield token\n",
        "\n",
        "    def tokenize(self, fileids=None, categories=None):\n",
        "        \"\"\"\n",
        "        Segments, tokenizes, and tags a document in the corpus.\n",
        "        \"\"\"\n",
        "        for paragraph in self.paras(fileids=fileids):\n",
        "            yield [\n",
        "                pos_tag(wordpunct_tokenize(sent))\n",
        "                for sent in sent_tokenize(paragraph)\n",
        "            ]\n",
        "\n",
        "    def describe(self, fileids=None, categories=None):\n",
        "        \"\"\"\n",
        "        Performs a single pass of the corpus and\n",
        "        returns a dictionary with a variety of metrics\n",
        "        concerning the state of the corpus.\n",
        "        \"\"\"\n",
        "        started = time.time()\n",
        "\n",
        "        # Structures to perform counting.\n",
        "        counts  = nltk.FreqDist()\n",
        "        tokens  = nltk.FreqDist()\n",
        "\n",
        "        # Perform single pass over paragraphs, tokenize and count\n",
        "        for para in self.paras(fileids, categories):\n",
        "            counts['paras'] += 1\n",
        "\n",
        "            for sent in sent_tokenize(para):\n",
        "                counts['sents'] += 1\n",
        "\n",
        "                for word in wordpunct_tokenize(sent):\n",
        "                    counts['words'] += 1\n",
        "                    tokens[word] += 1\n",
        "\n",
        "        # Compute the number of files and categories in the corpus\n",
        "        n_fileids = len(self.resolve(fileids, categories) or self.fileids())\n",
        "        n_topics  = len(self.categories(self.resolve(fileids, categories)))\n",
        "\n",
        "        # Return data structure with information\n",
        "        return {\n",
        "            'files':  n_fileids,\n",
        "            'topics': n_topics,\n",
        "            'paras':  counts['paras'],\n",
        "            'sents':  counts['sents'],\n",
        "            'words':  counts['words'],\n",
        "            'vocab':  len(tokens),\n",
        "            'lexdiv': float(counts['words']) / float(len(tokens)),\n",
        "            'ppdoc':  float(counts['paras']) / float(n_fileids),\n",
        "            'sppar':  float(counts['sents']) / float(counts['paras']),\n",
        "            'secs':   time.time() - started,\n",
        "        }\n",
        "\n",
        "\n"
      ],
      "execution_count": 0,
      "outputs": [
        {
          "output_type": "stream",
          "text": [
            "[nltk_data] Downloading package averaged_perceptron_tagger to\n",
            "[nltk_data]     /root/nltk_data...\n",
            "[nltk_data]   Package averaged_perceptron_tagger is already up-to-\n",
            "[nltk_data]       date!\n",
            "[nltk_data] Downloading package stopwords to /root/nltk_data...\n",
            "[nltk_data]   Package stopwords is already up-to-date!\n",
            "[nltk_data] Downloading package punkt to /root/nltk_data...\n",
            "[nltk_data]   Package punkt is already up-to-date!\n"
          ],
          "name": "stdout"
        }
      ]
    },
    {
      "cell_type": "markdown",
      "metadata": {
        "id": "76YuxObiVcsu",
        "colab_type": "text"
      },
      "source": [
        "# PickleCorpusReader"
      ]
    },
    {
      "cell_type": "code",
      "metadata": {
        "id": "S7oRD3SqVgyQ",
        "colab_type": "code",
        "colab": {}
      },
      "source": [
        "class PickledCorpusReader(HTMLCorpusReader):\n",
        "\n",
        "    def __init__(self, root, fileids=PKL_PATTERN, **kwargs):\n",
        "        \"\"\"\n",
        "        Initialize the corpus reader.  Categorization arguments\n",
        "        (``cat_pattern``, ``cat_map``, and ``cat_file``) are passed to\n",
        "        the ``CategorizedCorpusReader`` constructor.  The remaining arguments\n",
        "        are passed to the ``CorpusReader`` constructor.\n",
        "        \"\"\"\n",
        "        # Add the default category pattern if not passed into the class.\n",
        "        if not any(key.startswith('cat_') for key in kwargs.keys()):\n",
        "            kwargs['cat_pattern'] = CAT_PATTERN\n",
        "\n",
        "        CategorizedCorpusReader.__init__(self, kwargs)\n",
        "        CorpusReader.__init__(self, root, fileids)\n",
        "\n",
        "    def resolve(self, fileids, categories):\n",
        "        \"\"\"\n",
        "        Returns a list of fileids or categories depending on what is passed\n",
        "        to each internal corpus reader function. This primarily bubbles up to\n",
        "        the high level ``docs`` method, but is implemented here similar to\n",
        "        the nltk ``CategorizedPlaintextCorpusReader``.\n",
        "        \"\"\"\n",
        "        if fileids is not None and categories is not None:\n",
        "            raise ValueError(\"Specify fileids or categories, not both\")\n",
        "\n",
        "        if categories is not None:\n",
        "            return self.fileids(categories)\n",
        "        return fileids\n",
        "\n",
        "    def docs(self, fileids=None, categories=None):\n",
        "        \"\"\"\n",
        "        Returns the document loaded from a pickled object for every file in\n",
        "        the corpus. Similar to the BaleenCorpusReader, this uses a generator\n",
        "        to acheive memory safe iteration.\n",
        "        \"\"\"\n",
        "        # Resolve the fileids and the categories\n",
        "        fileids = self.resolve(fileids, categories)\n",
        "\n",
        "        # Create a generator, loading one document into memory at a time.\n",
        "        for path, enc, fileid in self.abspaths(fileids, True, True):\n",
        "            with open(path, 'rb') as f:\n",
        "                yield pickle.load(f)\n",
        "\n",
        "    def paras(self, fileids=None, categories=None):\n",
        "        \"\"\"\n",
        "        Returns a generator of paragraphs where each paragraph is a list of\n",
        "        sentences, which is in turn a list of (token, tag) tuples.\n",
        "        \"\"\"\n",
        "        for doc in self.docs(fileids, categories):\n",
        "            for paragraph in doc:\n",
        "                yield paragraph\n",
        "\n",
        "    def sents(self, fileids=None, categories=None):\n",
        "        \"\"\"\n",
        "        Returns a generator of sentences where each sentence is a list of\n",
        "        (token, tag) tuples.\n",
        "        \"\"\"\n",
        "        for paragraph in self.paras(fileids, categories):\n",
        "            for sentence in paragraph:\n",
        "                yield sentence\n",
        "\n",
        "    def tagged(self, fileids=None, categories=None):\n",
        "        for sent in self.sents(fileids, categories):\n",
        "            for token in sent:\n",
        "                yield token\n",
        "\n",
        "    def words(self, fileids=None, categories=None):\n",
        "        \"\"\"\n",
        "        Returns a generator of (token, tag) tuples.\n",
        "        \"\"\"\n",
        "        for token in self.tagged(fileids, categories):\n",
        "            yield token[0]"
      ],
      "execution_count": 0,
      "outputs": []
    },
    {
      "cell_type": "markdown",
      "metadata": {
        "id": "Vo2oEfTTUeTw",
        "colab_type": "text"
      },
      "source": [
        "# PVP Scraping"
      ]
    },
    {
      "cell_type": "code",
      "metadata": {
        "id": "XYZ_3Q_CpI2O",
        "colab_type": "code",
        "colab": {}
      },
      "source": [
        "def get_response(redirect):\n",
        "  #for each url on the redirect list, it may ask for a login - we're supplying that login. \n",
        "  with requests.Session() as s:\n",
        "      url = 'https://www.previsionpolicy.com/login' #will need to tailor this when I start using other sources. \n",
        "      r = s.get(url, headers=headers)\n",
        "      soup = BeautifulSoup(r.content, 'html5lib')\n",
        "      login_data['authenticity_token'] = soup.find('input', attrs={'name': 'authenticity_token'})['value'] #works for PVP\n",
        "      login_data['redirect'] = redirect\n",
        "      r.encoding = 'utf-8'\n",
        "      r = s.post(url, data=login_data, headers=headers)\n",
        "      #rBS = BeautifulSoup(r.text, 'html5lib') #Added 04_22_2020\n",
        "      return(r) #was return(r) - but that may be a class object. See https://requests.readthedocs.io/en/master/_modules/requests/models/ for documentation"
      ],
      "execution_count": 0,
      "outputs": []
    },
    {
      "cell_type": "code",
      "metadata": {
        "id": "00hUNrnPWG-c",
        "colab_type": "code",
        "colab": {}
      },
      "source": [
        "def get_redirect_list(query):\n",
        "  #run the search on the news page to get all the necessary links, create a list \"urls\" that will be used as the redirects; \n",
        "  #url links are stored on redirect_list\n",
        "  redirect_list = []\n",
        "  term_query = urllib.parse.quote_plus(query)\n",
        "  for i in range(0,20):\n",
        "    with requests.Session() as s:\n",
        "      url = 'https://www.previsionpolicy.com/pages?utf8=%E2%9C%93&search=\"'+term_query+'\"+NOT+%22Clips%22&commit=&page='+str(i)\n",
        "      r = s.get(url, headers=headers)\n",
        "      soup = BeautifulSoup(r.content, \"html5lib\") \n",
        "      for t in soup.find_all('a'):\n",
        "        if len(t.get('href')) > 35: redirect_list.append(t.get('href'))  #to help weed out the other links, stores all links within the redirect_list\n",
        "  return(redirect_list)"
      ],
      "execution_count": 0,
      "outputs": []
    },
    {
      "cell_type": "code",
      "metadata": {
        "id": "egUGH7gXatYj",
        "colab_type": "code",
        "colab": {}
      },
      "source": [
        "def make_dir_if_needed():\n",
        "  #make the directory if needed. \n",
        "  if not os.path.exists(query):\n",
        "    os.mkdir(query)\n",
        "    print(\"Directory \" , query ,  \" Created \")\n",
        "  else:    \n",
        "    print(\"Directory \" , query ,  \" already exists\")\n",
        "\n",
        "  os.chdir(query) "
      ],
      "execution_count": 0,
      "outputs": []
    },
    {
      "cell_type": "code",
      "metadata": {
        "id": "p0Tn7Vc5pL7_",
        "colab_type": "code",
        "colab": {}
      },
      "source": [
        "#Step 3 - Cell will generate a list of urls that result from the PVP search for real world evidence\n",
        "os.chdir('///content/' + target_dir) #CHANGE BACK TO ///content/gdrive//My Drive/FDA_Corpus/PVP\n",
        "urls = []\n",
        "file_count = {}\n",
        "search_terms = [\"RWE\"] #Delete this --- only for trouble shooting so that I'm not doing tons of terms. \n"
      ],
      "execution_count": 0,
      "outputs": []
    },
    {
      "cell_type": "code",
      "metadata": {
        "id": "zZG7vOZepPmm",
        "colab_type": "code",
        "colab": {}
      },
      "source": [
        "#SKIP IF CORPUS IS ALREADY DEVELOPED\n",
        "\n",
        "#For each search term in 'search_terms' - \n",
        "# 1 Preps the query to be inserted in the PVP list\n",
        "# 2 collects the redirect urls for up to 20 pages (guessing that there aren't more than 20 pages of articles) \n",
        "# 3 Runs a query, gets the urls for each result (which goes into teh redirect list)\n",
        "# 4 Looks up each url article in the redirect list, stores the text. \n",
        "os.chdir('///content/' + target_dir) #CHANGE BACK TO ///content/gdrive//My Drive/FDA_Corpus/PVP\n",
        "\n",
        "for query in search_terms:\n",
        "  print ('\\n\\n', query.upper(), '\\n')\n",
        "  redirect_list = get_redirect_list(query) #use each of the links in list \"urls\", get the text content, get the hash of the text, and save to file w/ hash in folder of search term. \n",
        "  print(redirect_list)\n",
        "  \n",
        "  make_dir_if_needed()\n",
        "  \n",
        "  for u in redirect_list:\n",
        "    \n",
        "    page_content = get_response(u) #to modify ... need to keep the get_text call, but ... will replace with the write file. look for tag \"meta content\" to get date\n",
        "    \n",
        "  \n",
        "    file_name = u[1:40]+'.html' #create file_name from first 40 characters of url\n",
        "    page_content_soup = BeautifulSoup(page_content.text, \"html.parser\")\n",
        "       \n",
        "    os.chdir('///content/' + target_dir) #CHANGE BACK TO ///content/gdrive//My Drive/FDA_Corpus/PVP  ALSO - need to split this into discrete function; should include date in the filename?\n",
        "    if not os.path.isfile(file_name):\n",
        "      \n",
        "      #with open(file_name, \"w\", encoding='utf-8') as file:\n",
        "      #  file.write(str(page_content_soup))\n",
        "        \n",
        "      f= open(file_name,'w+', encoding='utf8')\n",
        "      f.write(str(page_content_soup)) #may need to change 'bytes' back to 'str'\n",
        "      f.close()\n",
        "      \n",
        "      print(\"Wrote \"+file_name+\" Size: \"+str(os.stat(file_name).st_size))\n",
        "\n",
        "      if query in file_count.keys(): \n",
        "        file_count[query] += 1\n",
        "      else:\n",
        "        file_count[query] = 1\n",
        "  os.chdir('///content/' + target_dir) #CHANGE BACK TO ///content/gdrive//My Drive/FDA_Corpus/PVP"
      ],
      "execution_count": 0,
      "outputs": []
    },
    {
      "cell_type": "code",
      "metadata": {
        "colab_type": "code",
        "id": "ZKXU9HiusHUE",
        "colab": {}
      },
      "source": [
        "#SKIP - ONLY USED FOR METRIC TO COUNT CORPUS FILES CREATED\n",
        "os.chdir('///content/' + target_dir) #CHANGE BACK TO ///content/gdrive//My Drive/FDA_Corpus/PVP\n",
        "\n",
        "print(\"\\n\\nSUMMARY\\n Key   #Files\")\n",
        "tot_count = 0\n",
        "for q, n in file_count.items():\n",
        "  print(q, n)\n",
        "  tot_count += n\n",
        "\n",
        "print(\"\\nTOTAL FILES = \", tot_count)\n",
        "\n",
        "# WORKS WORKS ... next step is to write each html to a file labeled w/ date and hash. \n"
      ],
      "execution_count": 0,
      "outputs": []
    },
    {
      "cell_type": "markdown",
      "metadata": {
        "id": "dWVSnCsGUqvI",
        "colab_type": "text"
      },
      "source": [
        "# Active Testing"
      ]
    },
    {
      "cell_type": "code",
      "metadata": {
        "id": "QWm7yQKNT2ut",
        "colab_type": "code",
        "colab": {}
      },
      "source": [
        "#Create corpus object\n",
        "corpus = HTMLCorpusReader(d, fileids=file_list)"
      ],
      "execution_count": 0,
      "outputs": []
    },
    {
      "cell_type": "code",
      "metadata": {
        "id": "nFpbaHNgVmaE",
        "colab_type": "code",
        "colab": {}
      },
      "source": [
        "for para in corpus.paras(): print(para, '\\n') #WORKS!!! got rid of UTF-8.  should rerun on all files w/ all keywords.  Need to get rid of listdir() command somewhere?"
      ],
      "execution_count": 0,
      "outputs": []
    },
    {
      "cell_type": "code",
      "metadata": {
        "id": "FYsW20Au-wky",
        "colab_type": "code",
        "colab": {}
      },
      "source": [
        "#import nltk\n",
        "nltk.download('averaged_perceptron_tagger')\n",
        "for token in corpus.tokenize(): print(token)\n"
      ],
      "execution_count": 0,
      "outputs": []
    },
    {
      "cell_type": "code",
      "metadata": {
        "id": "sYFgehFOQfz9",
        "colab_type": "code",
        "colab": {}
      },
      "source": [
        "for para in corpus.paras(): print(para)"
      ],
      "execution_count": 0,
      "outputs": []
    },
    {
      "cell_type": "code",
      "metadata": {
        "id": "N3D3bCV8Belv",
        "colab_type": "code",
        "colab": {}
      },
      "source": [
        "import csv\n",
        "\n",
        "with open('RWE_Bert_training.tsv', 'wt', newline='') as out_file:\n",
        "    tsv_writer = csv.writer(out_file, delimiter='\\t')\n",
        "    index = 0\n",
        "    for para in corpus.paras(): \n",
        "      index += 1\n",
        "      tsv_writer.writerow([str(index), ' ', 'a', para ])"
      ],
      "execution_count": 0,
      "outputs": []
    },
    {
      "cell_type": "markdown",
      "metadata": {
        "id": "0u0_HFPF98HB",
        "colab_type": "text"
      },
      "source": [
        "For output ... considering developing a class object. Would have the following:\n",
        " \n",
        " - Document Date\n",
        " - Document Name (Hashtag?)\n",
        " - Paragraph number\n",
        " - FDA Tags -- Type Dictionary; keys would be the FDA list of trigger words (FDA, Temple, Woodcock, etc.), value would be the number of occurances.\n",
        " - Keyword tags -- Type Dictionary; keys would be the keywords (RWE, PFDD, etc) value would be the number of occurances.\n",
        " - Pos_score - identifies number of positive phrases used. \n",
        " - Neg_score - identifies number of negative phrases used. *\n",
        " *alternatively, just have a pos/minus for each paragraph token. \n",
        "\n"
      ]
    },
    {
      "cell_type": "code",
      "metadata": {
        "id": "lxktp1sgVwBK",
        "colab_type": "code",
        "colab": {}
      },
      "source": [
        "# Not sure what this does?\n",
        "from os import listdir\n",
        "from os.path import isfile, join\n",
        "d = os.getcwd()\n",
        "file_list = [f for f in listdir(d) if isfile(join(d, f))]\n",
        "d = os.getcwd()"
      ],
      "execution_count": 0,
      "outputs": []
    },
    {
      "cell_type": "code",
      "metadata": {
        "id": "WMwhFdkK_1ZV",
        "colab_type": "code",
        "colab": {}
      },
      "source": [
        "class Para_Analasys:\n",
        "  Doc_date = \"\"\n",
        "  Doc_Name = \"\"\n",
        "  Para_num = \"\"\n",
        "  FDA_Tags = {}\n",
        "  Keywd_Tags = {}\n",
        "  Sent_score = 0"
      ],
      "execution_count": 0,
      "outputs": []
    },
    {
      "cell_type": "code",
      "metadata": {
        "id": "DZOdsSOC_Fz2",
        "colab_type": "code",
        "colab": {}
      },
      "source": [
        "r = get_text()\n",
        "print (r.content)"
      ],
      "execution_count": 0,
      "outputs": []
    },
    {
      "cell_type": "code",
      "metadata": {
        "id": "l8TTNkji9l3q",
        "colab_type": "code",
        "outputId": "c41f1d05-8903-4ffa-b1aa-bd021ced71d7",
        "colab": {
          "base_uri": "https://localhost:8080/",
          "height": 54
        }
      },
      "source": [
        "#sandbox - trying to split html into paragraphs --- THIS WORKS -- should help split HTML into paragraphs to allow for word analysis. \n",
        "r = get_text()\n",
        "\n",
        "soup = BeautifulSoup(r.content, \"html5lib\")\n",
        "paragraphs = []\n",
        "tags = soup.find_all('p')\n",
        "for t in tags: paragraphs.append(t.text)\n",
        "\n",
        "print(paragraphs)"
      ],
      "execution_count": 0,
      "outputs": [
        {
          "output_type": "stream",
          "text": [
            "['\\nYou have not saved any research notes.\\n', 'To save a note, click the bookmark icon at the top of the article. Notes you flag will appear in this box.', 'A Bipartisan Policy Center report developed by three former FDA commissioners suggests a more active role by the Centers for Medicare & Medicaid Services could be critical to advancing the adoption of real-world evidence in drug regulation and reimbursement.', 'The August report is co-signed by Robert Califf, Andrew von Eschenbach and Mark McClellan, and is intended to “explore the benefits and challenges of using real-world data and evidence to inform regulatory and value-based payment decision-making and the policy actions needed to accelerate their use.” It follows up on the significant attention RWE received in the context of the 21st Century Cures and FDA Reauthorization Act legislation in 2016-2017.', 'Broadly speaking, the message from the report about FDA’s role is to keep moving on current activities to advance RWE. But when it comes to CMS, the report suggests more new ideas for the agency to explore.\\xa0', 'For FDA activities, the report urges full funding for RWE activities already under way, and suggests that FDA should “accelerate” those efforts as much as possible. But it does not fundamentally call for any changes in the approach outlined in the agency’s framework for advancing RWE. (See our Dec. 6, 2018 note,\\xa0FDA Real World Evidence Framework Promises Ample Guidance – But Stops Short Of Promising RWE-Based Approvals; Initial Focus Will Be Supplements.)', 'That is hardly surprising given the role of the three former commissioners in the report, and particularly Califf’s focus on advancing RWE at FDA during his tenure.', 'When it comes to recommendations on payment and reimbursement, however, the report pushes for new and different efforts – ones that are most thematically aligned with the initiatives of Mark McClellan, who served as CMS Administrator after leaving FDA and continues to advance ideas on value-based pricing models in his role as head of the Duke Margolis Center.', 'One recommendation flows directly back to McClellan’s tenure in government a decade ago: urging more coordination between FDA and CMS.\\xa0', '“The FDA and CMS should collaborate on ways to generate evidence and improve its development for medical products, including the evaluation and transition of pilot collaborations into permanent partnership programs,” the report states. “Such collaboration will foster more efficient and comprehensive evidence development for potentially high-impact, high-cost medical products, in an environment where complex, new therapies are emerging rapidly, the amount of clinical and patient-generated data to support evaluation is increasing significantly, and the expertise in this new emerging area is scarce.”', 'The report offers a more concrete recommendation for CMS: to launch a demonstration project on applying RWE for value-based pricing. “The CMS Innovation Center should develop and launch a demonstration project that explores how clinical, administrative, and patient- generated data from multiple sources can be used to generate evidence for outcomes or value-based payment models for high-cost drugs and biologics,” the report says. “The Innovation Center and its awardees should publish methods used, outcomes, and lessons learned to inform future value-based payment arrangements for drugs and biologics.”', 'In addition, BPC calls for enhancements in CMS’ workforce – a recommendation directed at Congress but implicitly urging different priorities for the agency as well. “Congress should assure adequate capacity and both scientific and value-based payment expertise within CMS to support coverage determinations and the implementation of new payment models for drugs, biologics, and medical devices,” the report states.', 'Finally, there are several recommendations for HHS that touch on Medicare/Medicaid rules, including calls for new safe harbors to make value-based pricing arrangements more feasible.', 'Here is the complete list of BPC recommendations from the report:', '', '1. ASSURING ADEQUATE FUNDING OF REAL-WORLD EVIDENCE ACTIVITIES\\xa0', '1.1 Fully Fund the FDA’s FY2020 Budget Request for the Creation of a New Medical Data Enterprise to Advance the Use of Real-World Evidence\\xa0', 'As it finalizes appropriations for FY2020, Congress should fully fund the FDA’s $60 million budget request for a Medical Data Enterprise to advance the use of real-world evidence to evaluate both effectiveness and safety of drugs, biologics, and devices.', '2. IMPROVING REGULATORY CLARITY\\xa0', '2.1 Continue and Expand Upon Efforts to Improve Regulatory Clarity\\xa0', 'The FDA should build on the recent momentum related to real-world evidence and develop and publish timely guidance—as required by the 21st Century Cures Act—regarding the circumstances under which sponsors and the FDA may rely on real-world evidence to help support the approval of a new indication for an existing drug, as well as to help support or satisfy post-approval study requirements. Such guidance should address key issues raised within the recently released FDA Framework. The guidance should be informed not only by the FDA Framework, but also by insights gained from pilot activities and robust processes for soliciting stakeholder and expert input.', '3. IMPROVING ACCESS TO DATA\\xa0', '3.1 Adopt Electronic Health Information Export Provisions, as Proposed, in Updates to 2015 Edition Certification Criteria\\xa0', 'The Office of the National Coordinator for Health Information Technology (ONC) should adopt, as proposed, a new 2015 Edition ONC Health Information Technology (IT) Certification criterion that requires health IT developers to enable all electronic health information to be exported—in a computable, electronic format, along with instructions to facilitate interpretation and use—for a patient or designee upon request. ONC should further clarify the ways in which data can be accessed by patients or their designees to support the use of patient data—while appropriately protecting privacy—for research.', '3.2 Adopt API Provisions Contained in ONC Proposed Rule\\xa0', 'ONC should adopt, as proposed, 2015 Edition ONC Health IT Certification criteria that would require health IT developers to support application programming interface (API)-enabled services for all data contained in the U.S. Core Data for Interoperability (USCDI) on a single patient and multiple patients, sing the Health Level 7 (HL7) Fast Healthcare Interoperability Resources (FHIR standard and related implementation specifications, so that information can be accessed, exchanged, and used without special effort. Such data should include all available data elements defined within the USCDI, whether structured or unstructured.', '3.3 Collaborate on the Development and Use of HL7 FHIR\\xa0Implementation Guides to Support Regulatory and Value-Based Payment Real- World Evidence Needs Related to Medical Products\\xa0', 'The FDA, the Centers for Medicare and Medicaid Services (CMS), and ONC should collaborate with HL7, as well as other stakeholders, including payers, providers, academic and research institutions, and patient groups, to develop, test, and utilize HL7 FHIR implementation guides to gain access to real- world data—while effectively protecting privacy—to support the evidence needs of both regulatory evaluation and value-based payment decision-making.', '3.4 Facilitate Access to Medicare Data to Support the Real-World Evidence Needs of Regulatory Evaluation and Value-Based Payment of Medical Products\\xa0', 'CMS should explore ways to make Medicare beneficiary data available—in formats that help to meet the reliability and relevance requirements of evidence development—to support the real-world data needs of regulatory evaluation and value-based payment for medical products.', '3.5 HHS Should Collaborate with Both Users and States to Accelerate Efforts to Make Standards-Based Mortality Information Available on a Timely Basis and at Reasonable Cost\\xa0', 'HHS should collaborate with users and states to develop and implement sustainable strategies to improve the availability, accuracy, timeliness, and cost of accessing mortality information for research and other population health improvement purposes. Such efforts should include the finalization and widespread adoption of mortality-related HL7 FHIR standards among states and technology developers.', '4. IMPROVING RELIABILITY AND RELEVANCE OF DATA\\xa0', '4.1 Adopt the USCDI Standard in Updates to 2015 Edition Certification Criteria\\xa0', 'ONC should replace the Common Clinical Data Set (CCDS) and its references within the 2015 Edition of the ONC Health IT Certification requirements with the USCDI standard, as proposed, including new required data classes and elements related to patient demographics, clinical notes, and data provenance, increasing the minimum baseline of data classes that must be commonly available within certified health IT for interoperable exchange.', '4.2 Align FDA Standards Requirements with the USCDI\\xa0', 'As the USCDI becomes the standard for health IT systems certified under the 2015 Edition, the FDA should consider aligning its standards and implementation requirements associated with real-world data and evidence that are derived from such systems, with the USCDI.', '4.3 Adopt Real-World Testing of Interoperability as Condition and Maintenance of Certification Under 2015 Edition\\xa0', 'ONC should include, as proposed, provisions for real-world testing of interoperability of health IT systems as a Condition of Certification and for Maintenance of Certification in its updates to the 2015 Edition of the ONC Health IT Certification Program.', '4.4 Include Patient Email Address and Specify that the U.S. Postal Service Standard be Used for Patient Address in the USCDI\\xa0', 'To improve patient matching, ONC should:', '5. LEVERAGING TECHNOLOGY TO GAIN INPUT DIRECTLY FROM PATIENTS\\xa0', '5.1 Develop Guidance to Accelerate the Use of Digital Tools for the Collection of Data Directly from Patients to Support the Entire Drug Development Life Cycle\\xa0', 'The FDA should build upon both its considerable progress related to patient-focused drug development and its Framework for the FDA’s Real-World Evidence Program\\xa0to develop more detailed guidance on the use of digital tools to support the collection of data directly from patients—including mobile technologies, wearables, biosensors, and other digital health tools—to serve as real-world data and evidence across the medical product development life cycle.', '6. EXPANDING EFFORTS TO LEVERAGE ARTIFICIAL INTELLIGENCE\\xa0', '6.1 Expand FDA Activities to Explore the Use of AI to Support Real-World Evidence Needs Across the Medical Product Development Life Cycle\\xa0', 'The FDA should fully implement the artificial intelligence (AI), natural language processing, and machine learning actions contained in the Sentinel Initiative Five-Year Strategy. The FDA should also conduct and disseminate learnings from demonstration projects designed to assess the utility, feasibility, and replicability of applying AI and natural language processing tools to novel data sources to facilitate their usage in studies leveraging real-world evidence across the medical product development life cycle.', '7.\\xa0ACCELERATING PILOTS AND DEMONSTRATION PROJECTS FOR NEW DATA SOURCES AND ADDITIONAL MEDICAL PRODUCTS\\xa0', '7.1 Accelerate FDA Pilot Projects Focused on New Data Sources, Including EHRs, Registries, Wearables, and Other Mobile Technologies, as well as Additional Medical Products, including Biologics, Such as Cell Therapies\\xa0', 'The FDA should expand upon its efforts to leverage new data sources, such as electronic health records (EHRs), registries, wearables, and other mobile technologies, through pilot projects, to explore their utility in supporting real-world evidence needs across the medical product development life cycle. The FDA should also support the development and launch of real-world evidence pilots that address the needs of not only single molecule drugs, but also biologics, including regenerative cell therapies.', '7.2 Launch a CMS Demonstration Project Focused on Using Data from Multiple Sources to Measure Outcomes for Value-Based Payment Models for Drugs and Biologics\\xa0', 'The CMS Innovation Center should develop and launch a demonstration project that explores how clinical, administrative, and patient-generated data from multiple sources can be used to generate evidence for outcomes or value-based payment models for high-cost drugs and biologics. The Innovation Center and its awardees should publish methods used, outcomes, and lessons learned to inform future value-based payment arrangements for drugs and biologics.', '8. ASSURING PRIVACY AND CONFIDENTIALITY\\xa0', '8.1 Consider the Real-World Evidence Needs of Regulatory Evaluation and Value-Based Payment Decision-making in Privacy Policy\\xa0', 'Public- and private-sector organizations engaged in the generation and use of real-world data and evidence—such as academic and research institutions, health systems, payers, regulators, technology companies, and patient organizations—should study, deliberate, and develop a setof privacy-related policy principles and recommendations to support the use of administrative, clinical, and patient-generated data across multiple settings for evidence generation for clinical research, regulatory evaluation, and value-based payment decision-making related to medical products. Such an effort should be convened by the federal government or a trusted, independent, non-pro t organization.', '8.2 Advance a Federal Data Privacy Framework That Creates Baseline Protections and Addresses Entities Handling Health Information That are Not Covered Under HIPAA\\xa0', 'Congress should pass bipartisan legislation that clarifies expectations for use and disclosures of health information among entities not covered under HIPAA. Congress should advance federal, baseline protections to improve consumer trust and certainty, which need not preempt existing state laws with more robust requirements.', '9. ADVANCING INNOVATIVE, NEW MODELS OF DRUG DEVELOPMENT\\xa0', '9.1 Continue and Accelerate Efforts to Advance Innovation in Drug Development, Leveraging Real-World Evidence\\xa0', 'The FDA should continue and accelerate its efforts to modernize and advance innovation in drug development, including innovative clinical trials that leverage real-world evidence drawn from EHRs, other clinical and administrative systems, mobile technologies, and other digital health tools, with the ultimate goal of reducing the cost and complexity of clinical trials.', 'The FDA should also continue with its plans to create a new Office of Drug Evaluation Science that will advance innovation in drug development, advance the science of prediction, and make it less expensive and less risky to create new drugs.', '10. ADDRESSING REGULATORY BARRIERS\\xa0', '10.1 Create New or Modify Existing Safe Harbors to Provide Regulatory Certainty Regarding Value-Based Payment Arrangements for Medical Products\\xa0', 'HHS should create new or modify existing safe harbors to provide clarity related to the use of value-based payment arrangements for medical products.', '10.2 Expand Existing Safe Harbors to Enable Donation or Cost-Sharing of Software Supporting Real-World Evidence Needs\\xa0', 'HHS should expand upon existing safe harbors to enable donation or cost-sharing associated with software, hardware, and related direct training associated with the collection, normalization, curation, and submission of clinical, administrative, and patient-reported data associated with outcomes measurement to support both regulatory evaluation and value-based payment arrangements for medical products.', '11. EXPANDING CMS WORKFORCE TO SUPPORT EVALUATION OF NEW EMERGING THERAPIES\\xa0', '11.1 Increase Capacity and Expertise at CMS to Support Innovation in Payment and Access to Transformative Medical Products\\xa0', 'Congress should assure adequate capacity and both scientific and value-based payment expertise within CMS to support coverage determinations and the implementation of new payment models for drugs, biologics, and medical devices.', '12. PROMOTING COOPERATION AND COLLABORATION\\xa0', '12.1 Improve Collaboration Between the FDA and CMS on Evidence Generation and Development\\xa0', 'The FDA and CMS should collaborate on ways to generate evidence and improve its development for medical products, including the evaluation and transition of pilot collaborations into permanent partnership programs. Such collaboration will foster more efficient and comprehensive evidence development for potentially high-impact, high-cost medical products, in an environment where complex, new therapies are emerging rapidly, the amount of clinical and patient-generated data to support evaluation is increasing significantly, and the expertise in this new emerging area is scarce.', '12.2 Advance Collaborative Models to Move Beyond Silos of Evidence Development\\xa0', 'Leaders representing payers, manufacturers, regulators, providers, and patients should advance collaboration and collective action on the generation and use of real-world evidence for both regulatory and value-based payment decision-making for drugs and biologics, drawing upon lessons, tools, and infrastructure of existing efforts.', 'Questions about our research?', '\\nYou have not saved any research notes.\\n', 'To save a note, click the bookmark icon at the top of the article. Notes you flag will appear in this box.', \"The Center for Biologics Evaluation and Research's (CBER) Vaccines and Related Biological Products Advisory Committee (VRBPAC) will meet in open session to discuss and make recommendations on the safety and efficacy of Peanut [Arachis hypogaea] Allergen Powder manufactured by Aimmune Therapeutics, Inc, indicated for treatment to reduce the risk of anaphylaxis after accidental exposure to peanut in patients aged 4 to 17 years with a confirmed diagnosis of peanut allergy.\", \"This year's Biopharma Congress confirmed speakers include Joe Grogan (White House), Scott Gottlieb (AEI), John O'Brien (HHS), Janet Woodcock (FDA), Richard Pazdur (FDA), and Amy Hall (House Ways and Means Committee).\", 'FDA notes that PBPK modeling and simulation approaches are extensively used in regulatory submissions to predict the potential for drug-drug interactions and to support dosing recommendations for certain drugs when they are co-administered with metabolic enzyme modulators. However, challenges and knowledge gaps prevent PBPK modeling from being routinely used for specific regulatory decisions. Given the current limitations of the approach, it is important that the scientific community explore when, where, and how PBPK modeling and simulation may be applied in regulatory decision-making.', '\\nCopyright © 2019 Prevision Policy. All Rights Reserved.\\nPrivacy Policy\\n']\n"
          ],
          "name": "stdout"
        }
      ]
    },
    {
      "cell_type": "code",
      "metadata": {
        "id": "aobh23iGIWEJ",
        "colab_type": "code",
        "colab": {}
      },
      "source": [
        "#WORKS - gets the hash of each document read in from the internet. \n",
        "\n",
        "import hashlib\n",
        "\n",
        "file_hash = hashlib.md5() # Create the hash object, can use something other than `.sha256()` if you wish\n",
        "file_hash.update(r.content)\n",
        "print (file_hash.hexdigest()) # Get the hexadecimal digest of the hash"
      ],
      "execution_count": 0,
      "outputs": []
    },
    {
      "cell_type": "markdown",
      "metadata": {
        "id": "xzJUaOR_IlTc",
        "colab_type": "text"
      },
      "source": [
        "Need to work on 1 paragraph at a time.  For each, do the following:\n",
        "- record the date and hash of the overarching document\n",
        "- record paragraph number\n",
        "- tokenize paragraph by sentance; remove stopwords\n",
        "- identify if FDA identifier is present, and if keyword identifier is present.\n",
        "- Score positive words; score negative words on sentance by sentance basis.  "
      ]
    },
    {
      "cell_type": "code",
      "metadata": {
        "id": "iOrhX1oisI1d",
        "colab_type": "code",
        "colab": {}
      },
      "source": [
        "#tokenize using string split commands ... early attempt, should be deprioritized for NLTK\n",
        "r = get_text()\n",
        "soup = BeautifulSoup(r.content, \"html5lib\")\n",
        "text = soup.get_text(strip=True)\n",
        "\n",
        "\n",
        "tokens = [t for t in text.split()]\n",
        "clean_tokens = tokens[:] #will generate a tokens library w/out stop words in english\n",
        "sr = stopwords.words('english')\n",
        "for token in tokens:\n",
        "    if token in sr: clean_tokens.remove(token)\n",
        "\n",
        "freq = nltk.FreqDist(clean_tokens)\n",
        "for key, val in freq.items():\n",
        "    print(str(key) + ':' + str(val))"
      ],
      "execution_count": 0,
      "outputs": []
    },
    {
      "cell_type": "code",
      "metadata": {
        "id": "FvIGshP_tqDa",
        "colab_type": "code",
        "outputId": "42102850-03ba-44bd-b7f1-3f8202c879d0",
        "colab": {
          "base_uri": "https://localhost:8080/",
          "height": 338
        }
      },
      "source": [
        "freq.plot(20, cumulative = False)"
      ],
      "execution_count": 0,
      "outputs": [
        {
          "output_type": "display_data",
          "data": {
            "image/png": "[encoded data removed]",
            "text/plain": [
              "<Figure size 432x288 with 1 Axes>"
            ]
          },
          "metadata": {
            "tags": []
          }
        }
      ]
    },
    {
      "cell_type": "code",
      "metadata": {
        "id": "rh6C4pkJ56d0",
        "colab_type": "code",
        "colab": {}
      },
      "source": [
        ""
      ],
      "execution_count": 0,
      "outputs": []
    },
    {
      "cell_type": "code",
      "metadata": {
        "id": "LzvgZ4ar4Mrm",
        "colab_type": "code",
        "colab": {}
      },
      "source": [
        "#uses NLTK to tokenize. \n",
        "from nltk import TextTilingTokenizer\n",
        "tt = TextTilingTokenizer()\n",
        "\n",
        "r = get_text()\n",
        "soup = BeautifulSoup(r.content, \"html5lib\")\n",
        "text = soup.get_text(strip=True)\n",
        "s, ss, d, b = tt.tokenize(text)\n"
      ],
      "execution_count": 0,
      "outputs": []
    }
  ]
}